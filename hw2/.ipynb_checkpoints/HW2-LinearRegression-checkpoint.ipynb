{
 "cells": [
  {
   "cell_type": "markdown",
   "id": "15900b64",
   "metadata": {},
   "source": [
    "# Homework 2 - Car Price Prediction Multiple Linear Regression\n",
    "- source: https://www.kaggle.com/datasets/hellbuoy/car-price-prediction/code"
   ]
  },
  {
   "cell_type": "code",
   "execution_count": 29,
   "id": "667ca2f9",
   "metadata": {},
   "outputs": [],
   "source": [
    "import pandas as pd\n",
    "import numpy as np\n",
    "import matplotlib.pyplot as plt\n",
    "import seaborn as sns\n",
    "\n",
    "from sklearn.model_selection import train_test_split\n",
    "from sklearn.linear_model import LinearRegression, Ridge, LogisticRegression\n",
    "from sklearn.preprocessing import Normalizer\n",
    "from sklearn.feature_selection import SelectKBest,SelectPercentile,f_classif\n",
    "from sklearn.feature_selection import f_regression,mutual_info_regression,mutual_info_classif\n",
    "from sklearn.feature_selection import SelectFromModel,RFE,VarianceThreshold"
   ]
  },
  {
   "cell_type": "markdown",
   "id": "6ea6f248",
   "metadata": {},
   "source": [
    "## Preprocessing\n",
    "- 数据读取\n",
    "- 数据预处理(处理空值等)\n",
    "- 训练集 & 测试集划分"
   ]
  },
  {
   "cell_type": "code",
   "execution_count": 2,
   "id": "693809fe",
   "metadata": {},
   "outputs": [],
   "source": [
    "'''\n",
    "Preprocessing\n",
    " - 数据读取\n",
    "'''\n",
    "data = pd.read_csv(\"CarPrice_Assignment.csv\")\n",
    "df = data.copy()"
   ]
  },
  {
   "cell_type": "code",
   "execution_count": 3,
   "id": "51787d58",
   "metadata": {
    "scrolled": true
   },
   "outputs": [
    {
     "name": "stdout",
     "output_type": "stream",
     "text": [
      "<class 'pandas.core.frame.DataFrame'>\n",
      "RangeIndex: 205 entries, 0 to 204\n",
      "Data columns (total 26 columns):\n",
      " #   Column            Non-Null Count  Dtype  \n",
      "---  ------            --------------  -----  \n",
      " 0   car_ID            205 non-null    int64  \n",
      " 1   symboling         205 non-null    int64  \n",
      " 2   CarName           205 non-null    object \n",
      " 3   fueltype          205 non-null    object \n",
      " 4   aspiration        205 non-null    object \n",
      " 5   doornumber        205 non-null    object \n",
      " 6   carbody           205 non-null    object \n",
      " 7   drivewheel        205 non-null    object \n",
      " 8   enginelocation    205 non-null    object \n",
      " 9   wheelbase         205 non-null    float64\n",
      " 10  carlength         205 non-null    float64\n",
      " 11  carwidth          205 non-null    float64\n",
      " 12  carheight         205 non-null    float64\n",
      " 13  curbweight        205 non-null    int64  \n",
      " 14  enginetype        205 non-null    object \n",
      " 15  cylindernumber    205 non-null    object \n",
      " 16  enginesize        205 non-null    int64  \n",
      " 17  fuelsystem        205 non-null    object \n",
      " 18  boreratio         205 non-null    float64\n",
      " 19  stroke            205 non-null    float64\n",
      " 20  compressionratio  205 non-null    float64\n",
      " 21  horsepower        205 non-null    int64  \n",
      " 22  peakrpm           205 non-null    int64  \n",
      " 23  citympg           205 non-null    int64  \n",
      " 24  highwaympg        205 non-null    int64  \n",
      " 25  price             205 non-null    float64\n",
      "dtypes: float64(8), int64(8), object(10)\n",
      "memory usage: 41.8+ KB\n"
     ]
    }
   ],
   "source": [
    "'''\n",
    "Preprocessing\n",
    " - 空值处理\n",
    "'''\n",
    "df.info() #没有空值"
   ]
  },
  {
   "cell_type": "code",
   "execution_count": 4,
   "id": "fe198634",
   "metadata": {},
   "outputs": [],
   "source": [
    "'''\n",
    "Preprocessing\n",
    " - 去除无意义数据列：car_ID\n",
    "'''\n",
    "df = df.drop('car_ID', axis=1)\n",
    "\n",
    "\n",
    "'''\n",
    "Preprocessing\n",
    " - Feature & Target split\n",
    "'''\n",
    "y = df[\"price\"] # feature\n",
    "X = df.drop('price', axis=1) # ground truth"
   ]
  },
  {
   "cell_type": "markdown",
   "id": "552923b8",
   "metadata": {},
   "source": [
    "## Feature Engineering \n",
    "\n",
    "1. *数据含义出发：*\n",
    "- 从feature中去除car_ID列（无实际意义）\n",
    "\n",
    "\n",
    "2. *连续型变量:*\n",
    "- Variance threshold（方差阈值）：防止数据的方差过小，从而导致无意义\n",
    "- KBest方法: 选择最佳的K个特征\n",
    "- 相关性分析\n",
    "\n",
    "\n",
    "3. *离散变量*：\n",
    "- 描述性统计"
   ]
  },
  {
   "cell_type": "code",
   "execution_count": 5,
   "id": "fe84e822",
   "metadata": {},
   "outputs": [],
   "source": [
    "'''\n",
    "Feature Engineering (特征工程) —— 连续型变量\n",
    "- 方差阈值：variance threshold'\n",
    "- KBest方法：通过一个简单的linear function判断各个feature与target的相关性\n",
    "'''\n",
    "\n",
    "def variance_threshold(X_train, threshold=0):\n",
    "    '''设置方差阈值'''\n",
    "    vth = VarianceThreshold(threshold=threshold)  # as deafult threshold=0\n",
    "    vth.fit(X_train)\n",
    "    X_train_vth = X_train.iloc[:, vth.get_support()]\n",
    "    return pd.DataFrame({'Feature': X_train.columns,\n",
    "                         'Variance': vth.variances_,}).sort_values('Variance', ascending=True)\n",
    "\n",
    "\n",
    "def select_K_best(X_train, y_train, k=6, train_set=True):\n",
    "    '''KBest方法'''\n",
    "    Kbest_reg = SelectKBest(score_func=f_regression, k=k)\n",
    "    Kbest_reg.fit(X_train, y_train)\n",
    "    \n",
    "    # plot the scorez\n",
    "    if train_set:\n",
    "        plt.bar([X_train.columns[i] for i in range(len(Kbest_reg.scores_))], \n",
    "                Kbest_reg.scores_)\n",
    "        plt.xticks(rotation=90)\n",
    "        plt.rcParams[\"figure.figsize\"] = (8,6)\n",
    "        plt.show()\n",
    "    \n",
    "    return Kbest_reg"
   ]
  },
  {
   "cell_type": "code",
   "execution_count": 6,
   "id": "681f61b0",
   "metadata": {
    "scrolled": false
   },
   "outputs": [
    {
     "data": {
      "text/html": [
       "<div>\n",
       "<style scoped>\n",
       "    .dataframe tbody tr th:only-of-type {\n",
       "        vertical-align: middle;\n",
       "    }\n",
       "\n",
       "    .dataframe tbody tr th {\n",
       "        vertical-align: top;\n",
       "    }\n",
       "\n",
       "    .dataframe thead th {\n",
       "        text-align: right;\n",
       "    }\n",
       "</style>\n",
       "<table border=\"1\" class=\"dataframe\">\n",
       "  <thead>\n",
       "    <tr style=\"text-align: right;\">\n",
       "      <th></th>\n",
       "      <th>Feature</th>\n",
       "      <th>Variance</th>\n",
       "    </tr>\n",
       "  </thead>\n",
       "  <tbody>\n",
       "    <tr>\n",
       "      <th>6</th>\n",
       "      <td>boreratio</td>\n",
       "      <td>0.072998</td>\n",
       "    </tr>\n",
       "    <tr>\n",
       "      <th>7</th>\n",
       "      <td>stroke</td>\n",
       "      <td>0.097863</td>\n",
       "    </tr>\n",
       "    <tr>\n",
       "      <th>2</th>\n",
       "      <td>carwidth</td>\n",
       "      <td>4.579451</td>\n",
       "    </tr>\n",
       "    <tr>\n",
       "      <th>3</th>\n",
       "      <td>carheight</td>\n",
       "      <td>5.941674</td>\n",
       "    </tr>\n",
       "    <tr>\n",
       "      <th>8</th>\n",
       "      <td>compressionratio</td>\n",
       "      <td>15.700143</td>\n",
       "    </tr>\n",
       "    <tr>\n",
       "      <th>0</th>\n",
       "      <td>wheelbase</td>\n",
       "      <td>34.300000</td>\n",
       "    </tr>\n",
       "    <tr>\n",
       "      <th>11</th>\n",
       "      <td>citympg</td>\n",
       "      <td>36.000000</td>\n",
       "    </tr>\n",
       "    <tr>\n",
       "      <th>12</th>\n",
       "      <td>highwaympg</td>\n",
       "      <td>38.000000</td>\n",
       "    </tr>\n",
       "    <tr>\n",
       "      <th>1</th>\n",
       "      <td>carlength</td>\n",
       "      <td>67.000000</td>\n",
       "    </tr>\n",
       "    <tr>\n",
       "      <th>9</th>\n",
       "      <td>horsepower</td>\n",
       "      <td>240.000000</td>\n",
       "    </tr>\n",
       "    <tr>\n",
       "      <th>5</th>\n",
       "      <td>enginesize</td>\n",
       "      <td>265.000000</td>\n",
       "    </tr>\n",
       "    <tr>\n",
       "      <th>10</th>\n",
       "      <td>peakrpm</td>\n",
       "      <td>2450.000000</td>\n",
       "    </tr>\n",
       "    <tr>\n",
       "      <th>4</th>\n",
       "      <td>curbweight</td>\n",
       "      <td>2578.000000</td>\n",
       "    </tr>\n",
       "  </tbody>\n",
       "</table>\n",
       "</div>"
      ],
      "text/plain": [
       "             Feature     Variance\n",
       "6          boreratio     0.072998\n",
       "7             stroke     0.097863\n",
       "2           carwidth     4.579451\n",
       "3          carheight     5.941674\n",
       "8   compressionratio    15.700143\n",
       "0          wheelbase    34.300000\n",
       "11           citympg    36.000000\n",
       "12        highwaympg    38.000000\n",
       "1          carlength    67.000000\n",
       "9         horsepower   240.000000\n",
       "5         enginesize   265.000000\n",
       "10           peakrpm  2450.000000\n",
       "4         curbweight  2578.000000"
      ]
     },
     "execution_count": 6,
     "metadata": {},
     "output_type": "execute_result"
    }
   ],
   "source": [
    "X_continuous = X[[\"wheelbase\", \"carlength\", \"carwidth\", \n",
    "                  \"carheight\", \"curbweight\", \"enginesize\", \"boreratio\",\n",
    "                  \"stroke\", \"compressionratio\", \"horsepower\", \"peakrpm\",\n",
    "                  \"citympg\", \"highwaympg\"]]\n",
    "\n",
    "# variance threshold\n",
    "variance_threshold(X_continuous, threshold=0)"
   ]
  },
  {
   "cell_type": "code",
   "execution_count": 7,
   "id": "cba99ff7",
   "metadata": {
    "scrolled": false
   },
   "outputs": [
    {
     "data": {
      "image/png": "[encoded data removed]",
      "text/plain": [
       "<Figure size 432x288 with 1 Axes>"
      ]
     },
     "metadata": {
      "needs_background": "light"
     },
     "output_type": "display_data"
    }
   ],
   "source": [
    "_ = select_K_best(X_continuous, y)"
   ]
  },
  {
   "cell_type": "markdown",
   "id": "a2d833d4",
   "metadata": {},
   "source": [
    "**分类变量的Feature Engineering**"
   ]
  },
  {
   "cell_type": "code",
   "execution_count": 8,
   "id": "5419934f",
   "metadata": {},
   "outputs": [
    {
     "data": {
      "text/html": [
       "<div>\n",
       "<style scoped>\n",
       "    .dataframe tbody tr th:only-of-type {\n",
       "        vertical-align: middle;\n",
       "    }\n",
       "\n",
       "    .dataframe tbody tr th {\n",
       "        vertical-align: top;\n",
       "    }\n",
       "\n",
       "    .dataframe thead th {\n",
       "        text-align: right;\n",
       "    }\n",
       "</style>\n",
       "<table border=\"1\" class=\"dataframe\">\n",
       "  <thead>\n",
       "    <tr style=\"text-align: right;\">\n",
       "      <th></th>\n",
       "      <th>symboling</th>\n",
       "      <th>CarName</th>\n",
       "      <th>fueltype</th>\n",
       "      <th>aspiration</th>\n",
       "      <th>doornumber</th>\n",
       "      <th>carbody</th>\n",
       "      <th>drivewheel</th>\n",
       "      <th>enginelocation</th>\n",
       "      <th>enginetype</th>\n",
       "      <th>cylindernumber</th>\n",
       "      <th>fuelsystem</th>\n",
       "      <th>price</th>\n",
       "    </tr>\n",
       "  </thead>\n",
       "  <tbody>\n",
       "    <tr>\n",
       "      <th>0</th>\n",
       "      <td>3</td>\n",
       "      <td>alfa-romero giulia</td>\n",
       "      <td>gas</td>\n",
       "      <td>std</td>\n",
       "      <td>two</td>\n",
       "      <td>convertible</td>\n",
       "      <td>rwd</td>\n",
       "      <td>front</td>\n",
       "      <td>dohc</td>\n",
       "      <td>four</td>\n",
       "      <td>mpfi</td>\n",
       "      <td>13495.0</td>\n",
       "    </tr>\n",
       "    <tr>\n",
       "      <th>1</th>\n",
       "      <td>3</td>\n",
       "      <td>alfa-romero stelvio</td>\n",
       "      <td>gas</td>\n",
       "      <td>std</td>\n",
       "      <td>two</td>\n",
       "      <td>convertible</td>\n",
       "      <td>rwd</td>\n",
       "      <td>front</td>\n",
       "      <td>dohc</td>\n",
       "      <td>four</td>\n",
       "      <td>mpfi</td>\n",
       "      <td>16500.0</td>\n",
       "    </tr>\n",
       "    <tr>\n",
       "      <th>2</th>\n",
       "      <td>1</td>\n",
       "      <td>alfa-romero Quadrifoglio</td>\n",
       "      <td>gas</td>\n",
       "      <td>std</td>\n",
       "      <td>two</td>\n",
       "      <td>hatchback</td>\n",
       "      <td>rwd</td>\n",
       "      <td>front</td>\n",
       "      <td>ohcv</td>\n",
       "      <td>six</td>\n",
       "      <td>mpfi</td>\n",
       "      <td>16500.0</td>\n",
       "    </tr>\n",
       "    <tr>\n",
       "      <th>3</th>\n",
       "      <td>2</td>\n",
       "      <td>audi 100 ls</td>\n",
       "      <td>gas</td>\n",
       "      <td>std</td>\n",
       "      <td>four</td>\n",
       "      <td>sedan</td>\n",
       "      <td>fwd</td>\n",
       "      <td>front</td>\n",
       "      <td>ohc</td>\n",
       "      <td>four</td>\n",
       "      <td>mpfi</td>\n",
       "      <td>13950.0</td>\n",
       "    </tr>\n",
       "    <tr>\n",
       "      <th>4</th>\n",
       "      <td>2</td>\n",
       "      <td>audi 100ls</td>\n",
       "      <td>gas</td>\n",
       "      <td>std</td>\n",
       "      <td>four</td>\n",
       "      <td>sedan</td>\n",
       "      <td>4wd</td>\n",
       "      <td>front</td>\n",
       "      <td>ohc</td>\n",
       "      <td>five</td>\n",
       "      <td>mpfi</td>\n",
       "      <td>17450.0</td>\n",
       "    </tr>\n",
       "  </tbody>\n",
       "</table>\n",
       "</div>"
      ],
      "text/plain": [
       "   symboling                   CarName fueltype aspiration doornumber  \\\n",
       "0          3        alfa-romero giulia      gas        std        two   \n",
       "1          3       alfa-romero stelvio      gas        std        two   \n",
       "2          1  alfa-romero Quadrifoglio      gas        std        two   \n",
       "3          2               audi 100 ls      gas        std       four   \n",
       "4          2                audi 100ls      gas        std       four   \n",
       "\n",
       "       carbody drivewheel enginelocation enginetype cylindernumber fuelsystem  \\\n",
       "0  convertible        rwd          front       dohc           four       mpfi   \n",
       "1  convertible        rwd          front       dohc           four       mpfi   \n",
       "2    hatchback        rwd          front       ohcv            six       mpfi   \n",
       "3        sedan        fwd          front        ohc           four       mpfi   \n",
       "4        sedan        4wd          front        ohc           five       mpfi   \n",
       "\n",
       "     price  \n",
       "0  13495.0  \n",
       "1  16500.0  \n",
       "2  16500.0  \n",
       "3  13950.0  \n",
       "4  17450.0  "
      ]
     },
     "execution_count": 8,
     "metadata": {},
     "output_type": "execute_result"
    }
   ],
   "source": [
    "X_cls = df.drop([\"wheelbase\", \"carlength\", \"carwidth\", \n",
    "                 \"carheight\", \"curbweight\", \"enginesize\", \n",
    "                 \"boreratio\", \"stroke\", \"compressionratio\",\n",
    "                 \"horsepower\", \"peakrpm\", \"citympg\", \"highwaympg\"], axis=1)\n",
    "\n",
    "X_cls.head(5)"
   ]
  },
  {
   "cell_type": "markdown",
   "id": "a6b6b595",
   "metadata": {},
   "source": [
    "描述性统计"
   ]
  },
  {
   "cell_type": "code",
   "execution_count": 9,
   "id": "9c63c5fd",
   "metadata": {},
   "outputs": [],
   "source": [
    "def column_countplot(ax, column, df):\n",
    "    column_cls_list = df[column].unique()\n",
    "    cls_list_num = [len(df[df[column] == each_cls]) for each_cls \n",
    "                    in column_cls_list]\n",
    "    ax.set_title('{} bar plot'.format(column))\n",
    "    ax.bar(column_cls_list, cls_list_num)\n",
    "    return ax"
   ]
  },
  {
   "cell_type": "code",
   "execution_count": 10,
   "id": "e27b63f9",
   "metadata": {
    "scrolled": false
   },
   "outputs": [
    {
     "name": "stdout",
     "output_type": "stream",
     "text": [
      "CLS column number:12\n"
     ]
    },
    {
     "data": {
      "image/png": "[encoded data removed]",
      "text/plain": [
       "<Figure size 1440x720 with 12 Axes>"
      ]
     },
     "metadata": {
      "needs_background": "light"
     },
     "output_type": "display_data"
    }
   ],
   "source": [
    "print(\"CLS column number:{}\".format(len(X_cls.columns)))\n",
    "f, axs = plt.subplots(3,4, figsize=(20,10))\n",
    "for i in range(3):\n",
    "    for j in range(4):\n",
    "        axs[i][j] = column_countplot(axs[i][j], \n",
    "                                     X_cls.columns[int(i*4 + j)], df)\n",
    "plt.show()"
   ]
  },
  {
   "cell_type": "markdown",
   "id": "513b886d",
   "metadata": {},
   "source": [
    "**Correlation Matrix**"
   ]
  },
  {
   "cell_type": "code",
   "execution_count": 11,
   "id": "a95afad8",
   "metadata": {
    "scrolled": false
   },
   "outputs": [
    {
     "name": "stderr",
     "output_type": "stream",
     "text": [
      "C:\\Users\\19436\\AppData\\Local\\Temp\\ipykernel_21852\\302231840.py:2: FutureWarning: The default value of numeric_only in DataFrame.corr is deprecated. In a future version, it will default to False. Select only valid columns or specify the value of numeric_only to silence this warning.\n",
      "  sns.heatmap(data.corr(),annot=True, mask=np.triu(data.corr(),k=1))\n"
     ]
    },
    {
     "data": {
      "text/plain": [
       "<AxesSubplot:>"
      ]
     },
     "execution_count": 11,
     "metadata": {},
     "output_type": "execute_result"
    },
    {
     "data": {
      "image/png": "[encoded data removed]",
      "text/plain": [
       "<Figure size 1080x1080 with 2 Axes>"
      ]
     },
     "metadata": {
      "needs_background": "light"
     },
     "output_type": "display_data"
    }
   ],
   "source": [
    "plt.figure(figsize=(15,15))\n",
    "sns.heatmap(data.corr(),annot=True, mask=np.triu(data.corr(),k=1))"
   ]
  },
  {
   "cell_type": "markdown",
   "id": "b342fce7",
   "metadata": {},
   "source": [
    "**Price Distribution**"
   ]
  },
  {
   "cell_type": "code",
   "execution_count": 12,
   "id": "d8bb8a93",
   "metadata": {},
   "outputs": [
    {
     "name": "stderr",
     "output_type": "stream",
     "text": [
      "C:\\Users\\19436\\AppData\\Local\\Temp\\ipykernel_21852\\137551471.py:2: UserWarning: \n",
      "\n",
      "`distplot` is a deprecated function and will be removed in seaborn v0.14.0.\n",
      "\n",
      "Please adapt your code to use either `displot` (a figure-level function with\n",
      "similar flexibility) or `histplot` (an axes-level function for histograms).\n",
      "\n",
      "For a guide to updating your code to use the new functions, please see\n",
      "https://gist.github.com/mwaskom/de44147ed2974457ad6372750bbe5751\n",
      "\n",
      "  sns.distplot(data['price'],color=\"y\")\n"
     ]
    },
    {
     "data": {
      "text/plain": [
       "<AxesSubplot:xlabel='price', ylabel='Density'>"
      ]
     },
     "execution_count": 12,
     "metadata": {},
     "output_type": "execute_result"
    },
    {
     "data": {
      "image/png": "[encoded data removed]",
      "text/plain": [
       "<Figure size 1080x720 with 1 Axes>"
      ]
     },
     "metadata": {
      "needs_background": "light"
     },
     "output_type": "display_data"
    }
   ],
   "source": [
    "plt.figure(figsize=(15,10))\n",
    "sns.distplot(data['price'],color=\"y\")"
   ]
  },
  {
   "cell_type": "markdown",
   "id": "da84a21e",
   "metadata": {},
   "source": [
    "## 任务一\n",
    "- 对因变量price建立【两个】合适的回归模型，可选择的模型包括基础线性回归模型、岭回归及Lasso等\n",
    "- 并从多个角度对比评价这两个模型，如可解释程度、拟合程度、预测精度等。"
   ]
  },
  {
   "cell_type": "markdown",
   "id": "88c6849e",
   "metadata": {},
   "source": [
    "## **Linear Regression Model**\n",
    "\n",
    "- Feature Engineering\n",
    "- Normalize the feature\n",
    "- train test split\n",
    "- linear regression - 基础线性回归\n",
    "- linear regression - lasso回归"
   ]
  },
  {
   "cell_type": "code",
   "execution_count": 13,
   "id": "dd1bb35b",
   "metadata": {},
   "outputs": [
    {
     "data": {
      "text/html": [
       "<div>\n",
       "<style scoped>\n",
       "    .dataframe tbody tr th:only-of-type {\n",
       "        vertical-align: middle;\n",
       "    }\n",
       "\n",
       "    .dataframe tbody tr th {\n",
       "        vertical-align: top;\n",
       "    }\n",
       "\n",
       "    .dataframe thead th {\n",
       "        text-align: right;\n",
       "    }\n",
       "</style>\n",
       "<table border=\"1\" class=\"dataframe\">\n",
       "  <thead>\n",
       "    <tr style=\"text-align: right;\">\n",
       "      <th></th>\n",
       "      <th>symboling</th>\n",
       "      <th>wheelbase</th>\n",
       "      <th>carlength</th>\n",
       "      <th>carwidth</th>\n",
       "      <th>curbweight</th>\n",
       "      <th>enginesize</th>\n",
       "      <th>boreratio</th>\n",
       "      <th>horsepower</th>\n",
       "      <th>citympg</th>\n",
       "      <th>highwaympg</th>\n",
       "      <th>...</th>\n",
       "      <th>cylindernumber_twelve</th>\n",
       "      <th>cylindernumber_two</th>\n",
       "      <th>fuelsystem_1bbl</th>\n",
       "      <th>fuelsystem_2bbl</th>\n",
       "      <th>fuelsystem_4bbl</th>\n",
       "      <th>fuelsystem_idi</th>\n",
       "      <th>fuelsystem_mfi</th>\n",
       "      <th>fuelsystem_mpfi</th>\n",
       "      <th>fuelsystem_spdi</th>\n",
       "      <th>fuelsystem_spfi</th>\n",
       "    </tr>\n",
       "  </thead>\n",
       "  <tbody>\n",
       "    <tr>\n",
       "      <th>0</th>\n",
       "      <td>3</td>\n",
       "      <td>88.6</td>\n",
       "      <td>168.8</td>\n",
       "      <td>64.1</td>\n",
       "      <td>2548</td>\n",
       "      <td>130</td>\n",
       "      <td>3.47</td>\n",
       "      <td>111</td>\n",
       "      <td>21</td>\n",
       "      <td>27</td>\n",
       "      <td>...</td>\n",
       "      <td>0</td>\n",
       "      <td>0</td>\n",
       "      <td>0</td>\n",
       "      <td>0</td>\n",
       "      <td>0</td>\n",
       "      <td>0</td>\n",
       "      <td>0</td>\n",
       "      <td>1</td>\n",
       "      <td>0</td>\n",
       "      <td>0</td>\n",
       "    </tr>\n",
       "    <tr>\n",
       "      <th>1</th>\n",
       "      <td>3</td>\n",
       "      <td>88.6</td>\n",
       "      <td>168.8</td>\n",
       "      <td>64.1</td>\n",
       "      <td>2548</td>\n",
       "      <td>130</td>\n",
       "      <td>3.47</td>\n",
       "      <td>111</td>\n",
       "      <td>21</td>\n",
       "      <td>27</td>\n",
       "      <td>...</td>\n",
       "      <td>0</td>\n",
       "      <td>0</td>\n",
       "      <td>0</td>\n",
       "      <td>0</td>\n",
       "      <td>0</td>\n",
       "      <td>0</td>\n",
       "      <td>0</td>\n",
       "      <td>1</td>\n",
       "      <td>0</td>\n",
       "      <td>0</td>\n",
       "    </tr>\n",
       "    <tr>\n",
       "      <th>2</th>\n",
       "      <td>1</td>\n",
       "      <td>94.5</td>\n",
       "      <td>171.2</td>\n",
       "      <td>65.5</td>\n",
       "      <td>2823</td>\n",
       "      <td>152</td>\n",
       "      <td>2.68</td>\n",
       "      <td>154</td>\n",
       "      <td>19</td>\n",
       "      <td>26</td>\n",
       "      <td>...</td>\n",
       "      <td>0</td>\n",
       "      <td>0</td>\n",
       "      <td>0</td>\n",
       "      <td>0</td>\n",
       "      <td>0</td>\n",
       "      <td>0</td>\n",
       "      <td>0</td>\n",
       "      <td>1</td>\n",
       "      <td>0</td>\n",
       "      <td>0</td>\n",
       "    </tr>\n",
       "    <tr>\n",
       "      <th>3</th>\n",
       "      <td>2</td>\n",
       "      <td>99.8</td>\n",
       "      <td>176.6</td>\n",
       "      <td>66.2</td>\n",
       "      <td>2337</td>\n",
       "      <td>109</td>\n",
       "      <td>3.19</td>\n",
       "      <td>102</td>\n",
       "      <td>24</td>\n",
       "      <td>30</td>\n",
       "      <td>...</td>\n",
       "      <td>0</td>\n",
       "      <td>0</td>\n",
       "      <td>0</td>\n",
       "      <td>0</td>\n",
       "      <td>0</td>\n",
       "      <td>0</td>\n",
       "      <td>0</td>\n",
       "      <td>1</td>\n",
       "      <td>0</td>\n",
       "      <td>0</td>\n",
       "    </tr>\n",
       "    <tr>\n",
       "      <th>4</th>\n",
       "      <td>2</td>\n",
       "      <td>99.4</td>\n",
       "      <td>176.6</td>\n",
       "      <td>66.4</td>\n",
       "      <td>2824</td>\n",
       "      <td>136</td>\n",
       "      <td>3.19</td>\n",
       "      <td>115</td>\n",
       "      <td>18</td>\n",
       "      <td>22</td>\n",
       "      <td>...</td>\n",
       "      <td>0</td>\n",
       "      <td>0</td>\n",
       "      <td>0</td>\n",
       "      <td>0</td>\n",
       "      <td>0</td>\n",
       "      <td>0</td>\n",
       "      <td>0</td>\n",
       "      <td>1</td>\n",
       "      <td>0</td>\n",
       "      <td>0</td>\n",
       "    </tr>\n",
       "  </tbody>\n",
       "</table>\n",
       "<p>5 rows × 44 columns</p>\n",
       "</div>"
      ],
      "text/plain": [
       "   symboling  wheelbase  carlength  carwidth  curbweight  enginesize  \\\n",
       "0          3       88.6      168.8      64.1        2548         130   \n",
       "1          3       88.6      168.8      64.1        2548         130   \n",
       "2          1       94.5      171.2      65.5        2823         152   \n",
       "3          2       99.8      176.6      66.2        2337         109   \n",
       "4          2       99.4      176.6      66.4        2824         136   \n",
       "\n",
       "   boreratio  horsepower  citympg  highwaympg  ...  cylindernumber_twelve  \\\n",
       "0       3.47         111       21          27  ...                      0   \n",
       "1       3.47         111       21          27  ...                      0   \n",
       "2       2.68         154       19          26  ...                      0   \n",
       "3       3.19         102       24          30  ...                      0   \n",
       "4       3.19         115       18          22  ...                      0   \n",
       "\n",
       "   cylindernumber_two  fuelsystem_1bbl  fuelsystem_2bbl  fuelsystem_4bbl  \\\n",
       "0                   0                0                0                0   \n",
       "1                   0                0                0                0   \n",
       "2                   0                0                0                0   \n",
       "3                   0                0                0                0   \n",
       "4                   0                0                0                0   \n",
       "\n",
       "   fuelsystem_idi  fuelsystem_mfi  fuelsystem_mpfi  fuelsystem_spdi  \\\n",
       "0               0               0                1                0   \n",
       "1               0               0                1                0   \n",
       "2               0               0                1                0   \n",
       "3               0               0                1                0   \n",
       "4               0               0                1                0   \n",
       "\n",
       "   fuelsystem_spfi  \n",
       "0                0  \n",
       "1                0  \n",
       "2                0  \n",
       "3                0  \n",
       "4                0  \n",
       "\n",
       "[5 rows x 44 columns]"
      ]
     },
     "execution_count": 13,
     "metadata": {},
     "output_type": "execute_result"
    }
   ],
   "source": [
    "'''\n",
    "Linear Regression Model\n",
    "- Feature Engineering\n",
    "- 根据Feature Engineering情况 选择合适的特征\n",
    "'''\n",
    "X_data = X.copy()\n",
    "y_data = y.copy()\n",
    "\n",
    "X_data.drop(['CarName', 'fueltype', 'aspiration', 'peakrpm', \n",
    "             'carheight', 'compressionratio', 'stroke'], \n",
    "            axis=1, inplace=True)\n",
    "\n",
    "X_data= pd.get_dummies(X_data) # 转换类别变量为one-hot\n",
    "X_data.head(5)"
   ]
  },
  {
   "cell_type": "code",
   "execution_count": 14,
   "id": "94d41cc8",
   "metadata": {},
   "outputs": [
    {
     "name": "stdout",
     "output_type": "stream",
     "text": [
      "Train set size: 143\n",
      "Test set size: 62\n"
     ]
    }
   ],
   "source": [
    "'''\n",
    "Linear Regression Model\n",
    "- Normalize the feature\n",
    "'''\n",
    "X_data_value = Normalizer().fit_transform(X_data.values)\n",
    "X_data = pd.DataFrame(X_data_value, columns=[X_data.columns])\n",
    "\n",
    "\n",
    "'''\n",
    "Linear Regression Model\n",
    "- train test split\n",
    "'''\n",
    "X_train, X_test, y_train, y_test = train_test_split(X_data, \n",
    "                                                    y_data, \n",
    "                                                    random_state=17, \n",
    "                                                    test_size=.30)\n",
    "print(\"Train set size: {}\".format(len(X_train)))\n",
    "print(\"Test set size: {}\".format(len(X_test)))"
   ]
  },
  {
   "cell_type": "markdown",
   "id": "ab34d0e4",
   "metadata": {},
   "source": [
    "**Linear Regression**"
   ]
  },
  {
   "cell_type": "code",
   "execution_count": 15,
   "id": "0c54f64a",
   "metadata": {
    "scrolled": true
   },
   "outputs": [
    {
     "data": {
      "text/plain": [
       "0.9452339112176131"
      ]
     },
     "execution_count": 15,
     "metadata": {},
     "output_type": "execute_result"
    }
   ],
   "source": [
    "'''\n",
    "Linear Regression Model\n",
    "- linear regression - 基础线性回归\n",
    "'''\n",
    "\n",
    "linear_regression = LinearRegression()\n",
    "linear_regression.fit(X_train, y_train) # 线性模型"
   ]
  },
  {
   "cell_type": "markdown",
   "id": "760cf82b",
   "metadata": {},
   "source": [
    "**Ridge Regression**"
   ]
  },
  {
   "cell_type": "code",
   "execution_count": 16,
   "id": "ccce17a2",
   "metadata": {},
   "outputs": [
    {
     "data": {
      "text/plain": [
       "0.04432237557264285"
      ]
     },
     "execution_count": 16,
     "metadata": {},
     "output_type": "execute_result"
    }
   ],
   "source": [
    "ridge_regressor = Ridge(alpha=1.0)\n",
    "ridge_regressor.fit(X_train, y_train)"
   ]
  },
  {
   "cell_type": "markdown",
   "id": "d3b56887",
   "metadata": {},
   "source": [
    "## **Evaluation**"
   ]
  },
  {
   "cell_type": "markdown",
   "id": "3988fcfe",
   "metadata": {},
   "source": [
    "**预测精度**"
   ]
  },
  {
   "cell_type": "code",
   "execution_count": 17,
   "id": "f8db5036",
   "metadata": {},
   "outputs": [],
   "source": [
    "def mean_squared_error(y_true, y_predict):\n",
    "    \"\"\"计算y_true和y_predict之间的MSE\"\"\"\n",
    "    assert len(y_true) == len(y_predict), \\\n",
    "        \"the size of y_true must be equal to the size of y_predict\"\n",
    "    return np.sum((y_true - y_predict) ** 2) / len(y_true)\n",
    "\n",
    "def root_mean_squared_error(y_true, y_predict):\n",
    "    \"\"\"计算y_true和y_predict之间的RMSE\"\"\"\n",
    "    return np.sqrt(mean_squared_error(y_true, y_predict))\n",
    "\n",
    "def mean_absolute_error(y_true, y_predict):\n",
    "    \"\"\"计算y_true和y_predict之间的MAE\"\"\"\n",
    "    assert len(y_true) == len(y_predict), \\\n",
    "        \"the size of y_true must be equal to the size of y_predict\"\n",
    "\n",
    "    return np.sum(np.absolute(y_predict - y_true)) / len(y_predict)"
   ]
  },
  {
   "cell_type": "code",
   "execution_count": 18,
   "id": "c26235ca",
   "metadata": {
    "scrolled": true
   },
   "outputs": [
    {
     "name": "stdout",
     "output_type": "stream",
     "text": [
      "*****LINEAR REGRESSION MDOEL*****\n",
      "Mean Squared Error: 13494204.284224717\n",
      "Root MSE: 3673.4458324881716\n",
      "Mean Absolute Error: 2373.8299347143525\n"
     ]
    }
   ],
   "source": [
    "print(\"*****LINEAR REGRESSION MDOEL*****\")\n",
    "y_pred = linear_regression.predict(X_test)\n",
    "\n",
    "print(\"Mean Squared Error: {}\".format(mean_squared_error(y_test.values, y_pred)))\n",
    "print(\"Root MSE: {}\".format(root_mean_squared_error(y_test.values, y_pred)))\n",
    "print(\"Mean Absolute Error: {}\".format(mean_absolute_error(y_test.values, y_pred)))"
   ]
  },
  {
   "cell_type": "code",
   "execution_count": 19,
   "id": "34e24f2f",
   "metadata": {},
   "outputs": [
    {
     "name": "stdout",
     "output_type": "stream",
     "text": [
      "*****LASSO LINEAR REGRESSION MDOEL*****\n",
      "Mean Squared Error: 67849937.45448232\n",
      "Root MSE: 8237.1073475148\n",
      "Mean Absolute Error: 5885.363973004948\n"
     ]
    }
   ],
   "source": [
    "print(\"*****LASSO LINEAR REGRESSION MDOEL*****\")\n",
    "y_pred = ridge_regressor.predict(X_test)\n",
    "\n",
    "print(\"Mean Squared Error: {}\".format(mean_squared_error(y_test.values, y_pred)))\n",
    "print(\"Root MSE: {}\".format(root_mean_squared_error(y_test.values, y_pred)))\n",
    "print(\"Mean Absolute Error: {}\".format(mean_absolute_error(y_test.values, y_pred)))"
   ]
  },
  {
   "cell_type": "markdown",
   "id": "70394ab0",
   "metadata": {},
   "source": [
    "**拟合程度**"
   ]
  },
  {
   "cell_type": "code",
   "execution_count": 20,
   "id": "c63154f3",
   "metadata": {},
   "outputs": [
    {
     "name": "stdout",
     "output_type": "stream",
     "text": [
      "简单线性回归拟合优度： 0.9452339112176131\n",
      "岭回归拟合优度： 0.04432237557264285\n"
     ]
    }
   ],
   "source": [
    "print(\"简单线性回归拟合优度： {}\".format(linear_regression.score(X_train, y_train)))\n",
    "print(\"岭回归拟合优度： {}\".format(ridge_regressor.score(X_train, y_train)))"
   ]
  },
  {
   "cell_type": "markdown",
   "id": "28c11913",
   "metadata": {},
   "source": [
    "## 任务2\n",
    "\n",
    "- 自定义指标将price转换为一个二分类指标，如根据中位数划将数据分为高价格/低价格\n",
    "- 对二分类因变量建立逻辑回归模型\n",
    "- 对模型结果进行解读并对模型进行评价。"
   ]
  },
  {
   "cell_type": "code",
   "execution_count": 21,
   "id": "3012b5f9",
   "metadata": {},
   "outputs": [],
   "source": [
    "X_data = X.copy()\n",
    "y_data = y.copy()\n",
    "\n",
    "X_data.drop(['CarName', 'fueltype', 'aspiration', 'peakrpm', \n",
    "             'carheight', 'compressionratio', 'stroke'], \n",
    "            axis=1, inplace=True)\n",
    "\n",
    "X_data= pd.get_dummies(X_data) # 转换类别变量为one-hot"
   ]
  },
  {
   "cell_type": "code",
   "execution_count": 31,
   "id": "254b33ec",
   "metadata": {},
   "outputs": [],
   "source": [
    "'''\n",
    "将price根据平均值转为类别变量\n",
    "'''\n",
    "price_mean = np.mean(y_data)\n",
    "\n",
    "y_cls = y.apply(lambda x: 1 if x > price_mean else 0)\n",
    "\n",
    "\n",
    "'''\n",
    "train_test_split\n",
    "'''\n",
    "X_train, X_test, y_train, y_test = train_test_split(X_data, \n",
    "                                                    y_cls, \n",
    "                                                    random_state=17, \n",
    "                                                    test_size=.30)"
   ]
  },
  {
   "cell_type": "code",
   "execution_count": 34,
   "id": "63832479",
   "metadata": {},
   "outputs": [],
   "source": [
    "'''\n",
    "建立逻辑回归模型\n",
    "'''\n",
    "clf = LogisticRegression(max_iter=1000,random_state=17).fit(X_train, y_train)"
   ]
  },
  {
   "cell_type": "code",
   "execution_count": 38,
   "id": "cddb631e",
   "metadata": {},
   "outputs": [
    {
     "name": "stdout",
     "output_type": "stream",
     "text": [
      "symboling: 0.25087833086309747\n",
      "wheelbase: -0.009593573635594497\n",
      "carlength: -0.08317263157985547\n",
      "carwidth: -0.22801001609468224\n",
      "curbweight: 0.011955700718580878\n",
      "enginesize: -0.031956436208924965\n",
      "boreratio: -0.6998319276412264\n",
      "horsepower: 0.021947437630631145\n",
      "citympg: -0.3870064383606393\n",
      "highwaympg: 0.40722508211536246\n",
      "doornumber_four: -0.24986362644234603\n",
      "doornumber_two: 0.22633240932379228\n",
      "carbody_convertible: 0.34222583317577376\n",
      "carbody_hardtop: -0.42969325927020047\n",
      "carbody_hatchback: -0.7266270661972069\n",
      "carbody_sedan: 0.8668177564835877\n",
      "carbody_wagon: -0.07625448128238042\n",
      "drivewheel_4wd: -0.12022532416035067\n",
      "drivewheel_fwd: 0.0056052500021956655\n",
      "drivewheel_rwd: 0.09108885703350654\n",
      "enginelocation_front: -0.051933048050310744\n",
      "enginelocation_rear: 0.028401830929064367\n",
      "enginetype_dohc: 0.5259139179099438\n",
      "enginetype_dohcv: 0.00020881853200469704\n",
      "enginetype_l: -0.8581822182760649\n",
      "enginetype_ohc: 0.3348317487986712\n",
      "enginetype_ohcf: -0.18536813853976578\n",
      "enginetype_ohcv: 0.06254845009999119\n",
      "enginetype_rotor: 0.09651620434243015\n",
      "cylindernumber_eight: 0.01840437495747988\n",
      "cylindernumber_five: 0.9119717120964352\n",
      "cylindernumber_four: -1.3583766843991163\n",
      "cylindernumber_six: 0.3080523602201395\n",
      "cylindernumber_three: -0.00012392793582612834\n",
      "cylindernumber_twelve: 2.4743574967209223e-05\n",
      "cylindernumber_two: 0.09651620434243015\n",
      "fuelsystem_1bbl: -0.07594738930474347\n",
      "fuelsystem_2bbl: -0.2903080681058519\n",
      "fuelsystem_4bbl: -0.032021195786872465\n",
      "fuelsystem_idi: 0.9574103973774157\n",
      "fuelsystem_mfi: -0.475751289467343\n",
      "fuelsystem_mpfi: 0.3227482823104553\n",
      "fuelsystem_spdi: -0.42966195415071795\n",
      "fuelsystem_spfi: 0.0\n"
     ]
    }
   ],
   "source": [
    "'''\n",
    "模型结果：\n",
    "系数的绝对值越大，表明该特征与价格的相关性越大\n",
    "+ 系数：表明该特征与价格为正相关\n",
    "- 系数：表明该特征与价格负相关\n",
    "'''\n",
    "for i in range(len(X_train.columns)):\n",
    "    print(\"{}: {}\".format(X_train.columns[i] ,clf.coef_[0][i]))"
   ]
  },
  {
   "cell_type": "code",
   "execution_count": 41,
   "id": "449f4643",
   "metadata": {},
   "outputs": [
    {
     "name": "stdout",
     "output_type": "stream",
     "text": [
      "Precision: 0.88\n",
      "Recall: 0.88\n",
      "F1 Score: 0.88\n",
      "Confusion Matrix:\n",
      "[[34  3]\n",
      " [ 3 22]]\n"
     ]
    }
   ],
   "source": [
    "'''评价模型性能'''\n",
    "from sklearn.metrics import accuracy_score\n",
    "from sklearn.metrics import confusion_matrix\n",
    "from sklearn.metrics import precision_score, recall_score, f1_score\n",
    "\n",
    "y_pred = clf.predict(X_test)\n",
    "\n",
    "print(\"Precision: {}\".format(precision_score(y_test, y_pred)))\n",
    "print(\"Recall: {}\".format(precision_score(y_test, y_pred)))\n",
    "print(\"F1 Score: {}\".format(precision_score(y_test, y_pred)))\n",
    "\n",
    "print(\"Confusion Matrix:\\n{}\".format(confusion_matrix(y_test, y_pred)))"
   ]
  }
 ],
 "metadata": {
  "kernelspec": {
   "display_name": "Python 3 (ipykernel)",
   "language": "python",
   "name": "python3"
  },
  "language_info": {
   "codemirror_mode": {
    "name": "ipython",
    "version": 3
   },
   "file_extension": ".py",
   "mimetype": "text/x-python",
   "name": "python",
   "nbconvert_exporter": "python",
   "pygments_lexer": "ipython3",
   "version": "3.9.7"
  }
 },
 "nbformat": 4,
 "nbformat_minor": 5
}
