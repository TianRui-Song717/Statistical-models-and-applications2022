{
 "cells": [
  {
   "cell_type": "code",
   "execution_count": 1,
   "id": "f6acb3e4",
   "metadata": {},
   "outputs": [],
   "source": [
    "import os\n",
    "import pandas as pd\n",
    "import numpy as np"
   ]
  },
  {
   "cell_type": "markdown",
   "id": "8e86d71a",
   "metadata": {},
   "source": [
    "# Read Data\n",
    "列：学生性别、种族、父母教育情况、午餐情况、考试准备课程完成情况、数学分数、阅读分数以及写作分数"
   ]
  },
  {
   "cell_type": "code",
   "execution_count": 2,
   "id": "8e6593f1",
   "metadata": {},
   "outputs": [
    {
     "data": {
      "text/html": [
       "<div>\n",
       "<style scoped>\n",
       "    .dataframe tbody tr th:only-of-type {\n",
       "        vertical-align: middle;\n",
       "    }\n",
       "\n",
       "    .dataframe tbody tr th {\n",
       "        vertical-align: top;\n",
       "    }\n",
       "\n",
       "    .dataframe thead th {\n",
       "        text-align: right;\n",
       "    }\n",
       "</style>\n",
       "<table border=\"1\" class=\"dataframe\">\n",
       "  <thead>\n",
       "    <tr style=\"text-align: right;\">\n",
       "      <th></th>\n",
       "      <th>gender</th>\n",
       "      <th>race/ethnicity</th>\n",
       "      <th>parental level of education</th>\n",
       "      <th>lunch</th>\n",
       "      <th>test preparation course</th>\n",
       "      <th>math score</th>\n",
       "      <th>reading score</th>\n",
       "      <th>writing score</th>\n",
       "    </tr>\n",
       "  </thead>\n",
       "  <tbody>\n",
       "    <tr>\n",
       "      <th>0</th>\n",
       "      <td>male</td>\n",
       "      <td>group A</td>\n",
       "      <td>high school</td>\n",
       "      <td>standard</td>\n",
       "      <td>completed</td>\n",
       "      <td>67</td>\n",
       "      <td>67</td>\n",
       "      <td>63</td>\n",
       "    </tr>\n",
       "    <tr>\n",
       "      <th>1</th>\n",
       "      <td>female</td>\n",
       "      <td>group D</td>\n",
       "      <td>some high school</td>\n",
       "      <td>free/reduced</td>\n",
       "      <td>none</td>\n",
       "      <td>40</td>\n",
       "      <td>59</td>\n",
       "      <td>55</td>\n",
       "    </tr>\n",
       "    <tr>\n",
       "      <th>2</th>\n",
       "      <td>male</td>\n",
       "      <td>group E</td>\n",
       "      <td>some college</td>\n",
       "      <td>free/reduced</td>\n",
       "      <td>none</td>\n",
       "      <td>59</td>\n",
       "      <td>60</td>\n",
       "      <td>50</td>\n",
       "    </tr>\n",
       "    <tr>\n",
       "      <th>3</th>\n",
       "      <td>male</td>\n",
       "      <td>group B</td>\n",
       "      <td>high school</td>\n",
       "      <td>standard</td>\n",
       "      <td>none</td>\n",
       "      <td>77</td>\n",
       "      <td>78</td>\n",
       "      <td>68</td>\n",
       "    </tr>\n",
       "    <tr>\n",
       "      <th>4</th>\n",
       "      <td>male</td>\n",
       "      <td>group E</td>\n",
       "      <td>associate's degree</td>\n",
       "      <td>standard</td>\n",
       "      <td>completed</td>\n",
       "      <td>78</td>\n",
       "      <td>73</td>\n",
       "      <td>68</td>\n",
       "    </tr>\n",
       "  </tbody>\n",
       "</table>\n",
       "</div>"
      ],
      "text/plain": [
       "   gender race/ethnicity parental level of education         lunch  \\\n",
       "0    male        group A                 high school      standard   \n",
       "1  female        group D            some high school  free/reduced   \n",
       "2    male        group E                some college  free/reduced   \n",
       "3    male        group B                 high school      standard   \n",
       "4    male        group E          associate's degree      standard   \n",
       "\n",
       "  test preparation course  math score  reading score  writing score  \n",
       "0               completed          67             67             63  \n",
       "1                    none          40             59             55  \n",
       "2                    none          59             60             50  \n",
       "3                    none          77             78             68  \n",
       "4               completed          78             73             68  "
      ]
     },
     "execution_count": 2,
     "metadata": {},
     "output_type": "execute_result"
    }
   ],
   "source": [
    "data = pd.read_csv(\"exams.csv\") # 读取数据\n",
    "data.head(5) # 显示dataframe中的前5行数据"
   ]
  },
  {
   "cell_type": "markdown",
   "id": "8dcae9d3",
   "metadata": {},
   "source": [
    "# Tasks"
   ]
  },
  {
   "cell_type": "code",
   "execution_count": 3,
   "id": "e329cbba",
   "metadata": {},
   "outputs": [],
   "source": [
    "df = data.copy()"
   ]
  },
  {
   "cell_type": "markdown",
   "id": "ce11c006",
   "metadata": {},
   "source": [
    "## NO.1 - Fill the missing data\n",
    "使用恰当的方式填补缺失值，如有需要可对数据进行数据变换。"
   ]
  },
  {
   "cell_type": "code",
   "execution_count": 4,
   "id": "4985905e",
   "metadata": {},
   "outputs": [
    {
     "name": "stdout",
     "output_type": "stream",
     "text": [
      "<class 'pandas.core.frame.DataFrame'>\n",
      "RangeIndex: 1000 entries, 0 to 999\n",
      "Data columns (total 8 columns):\n",
      " #   Column                       Non-Null Count  Dtype \n",
      "---  ------                       --------------  ----- \n",
      " 0   gender                       1000 non-null   object\n",
      " 1   race/ethnicity               1000 non-null   object\n",
      " 2   parental level of education  1000 non-null   object\n",
      " 3   lunch                        1000 non-null   object\n",
      " 4   test preparation course      1000 non-null   object\n",
      " 5   math score                   1000 non-null   int64 \n",
      " 6   reading score                1000 non-null   int64 \n",
      " 7   writing score                1000 non-null   int64 \n",
      "dtypes: int64(3), object(5)\n",
      "memory usage: 62.6+ KB\n"
     ]
    }
   ],
   "source": [
    "df.info() # 查看缺失值 —— 无缺失值"
   ]
  },
  {
   "cell_type": "markdown",
   "id": "4a01a684",
   "metadata": {},
   "source": [
    "## NO.2\n",
    "- 筛选所有性别是female的女生，计算她们writing score的均值"
   ]
  },
  {
   "cell_type": "code",
   "execution_count": 5,
   "id": "edaedda1",
   "metadata": {},
   "outputs": [
    {
     "name": "stdout",
     "output_type": "stream",
     "text": [
      "Average writing score of girls: 71.7080745341615\n"
     ]
    }
   ],
   "source": [
    "df_female = df[df['gender']=='female'] # 筛选出所有性别为female的女生\n",
    "print(\"Average writing score of girls: {}\".format(np.mean(df_female[\"writing score\"]))) # 计算均值"
   ]
  },
  {
   "cell_type": "markdown",
   "id": "808a88e5",
   "metadata": {},
   "source": [
    "# NO.3\n",
    "- 父母教育程度是some college的学生有多少个，占所有学生的比例是多少"
   ]
  },
  {
   "cell_type": "code",
   "execution_count": 6,
   "id": "13f0aeb2",
   "metadata": {},
   "outputs": [
    {
     "data": {
      "text/plain": [
       "222"
      ]
     },
     "execution_count": 6,
     "metadata": {},
     "output_type": "execute_result"
    }
   ],
   "source": [
    "'''父母教育程度为some college的学生数量'''\n",
    "len(df[df[\"parental level of education\"]==\"some college\"])"
   ]
  },
  {
   "cell_type": "code",
   "execution_count": 7,
   "id": "6cab62a0",
   "metadata": {},
   "outputs": [
    {
     "data": {
      "text/plain": [
       "0.222"
      ]
     },
     "execution_count": 7,
     "metadata": {},
     "output_type": "execute_result"
    }
   ],
   "source": [
    "'''占比'''\n",
    "len(df[df[\"parental level of education\"]==\"some college\"]) / len(df)"
   ]
  },
  {
   "cell_type": "markdown",
   "id": "3c662f4b",
   "metadata": {},
   "source": [
    "# NO.4\n",
    "- 请在所有学生中随机抽取十个，并计算他们math score的方差"
   ]
  },
  {
   "cell_type": "code",
   "execution_count": 8,
   "id": "d1ff2c9a",
   "metadata": {
    "scrolled": true
   },
   "outputs": [
    {
     "name": "stdout",
     "output_type": "stream",
     "text": [
      "随机十个学生的math score方差: 255.08999999999997\n"
     ]
    }
   ],
   "source": [
    "rand_stu_index = np.random.randint(df.index.start, df.index.stop, size=10) # 随机取出10个学生的index（id）\n",
    "rand_ten_stu = df.iloc[rand_stu_index] # 从表中找到对应的学生\n",
    "print(\"随机十个学生的math score方差: {}\".format(np.var(rand_ten_stu[\"math score\"])))"
   ]
  },
  {
   "cell_type": "markdown",
   "id": "6474d7fb",
   "metadata": {},
   "source": [
    "# NO.5\n",
    "- 请使用循环语句打印前5个学生的种族，结果形如：学生1的种族为XXX"
   ]
  },
  {
   "cell_type": "code",
   "execution_count": 9,
   "id": "5843f92c",
   "metadata": {},
   "outputs": [
    {
     "name": "stdout",
     "output_type": "stream",
     "text": [
      "学生0的种族为group A\n",
      "学生1的种族为group D\n",
      "学生2的种族为group E\n",
      "学生3的种族为group B\n",
      "学生4的种族为group E\n"
     ]
    }
   ],
   "source": [
    "for i in range(5):\n",
    "    print(\"学生{}的种族为{}\".format(i, df.at[i, \"race/ethnicity\"]))"
   ]
  },
  {
   "cell_type": "markdown",
   "id": "067d32b7",
   "metadata": {},
   "source": [
    "# NO.6\n",
    "- 为该数据增添新的一列，命名为‘新属性’。\n",
    "- 计算所有学生的reading score均值，若一学生reading score大于该均值，‘新属性’取值为“high”；否则为“low”"
   ]
  },
  {
   "cell_type": "code",
   "execution_count": 10,
   "id": "11a8f6fd",
   "metadata": {},
   "outputs": [],
   "source": [
    "mean_reading_score = df[\"reading score\"].mean() # 计算所有学生的reading score均值\n",
    "df_new = df.copy()\n",
    "df_new[\"新属性\"] = df[\"reading score\"].map(lambda x: \"high\" if x>mean_reading_score else \"low\") # 建新的列"
   ]
  },
  {
   "cell_type": "code",
   "execution_count": 11,
   "id": "014e4239",
   "metadata": {},
   "outputs": [
    {
     "data": {
      "text/html": [
       "<div>\n",
       "<style scoped>\n",
       "    .dataframe tbody tr th:only-of-type {\n",
       "        vertical-align: middle;\n",
       "    }\n",
       "\n",
       "    .dataframe tbody tr th {\n",
       "        vertical-align: top;\n",
       "    }\n",
       "\n",
       "    .dataframe thead th {\n",
       "        text-align: right;\n",
       "    }\n",
       "</style>\n",
       "<table border=\"1\" class=\"dataframe\">\n",
       "  <thead>\n",
       "    <tr style=\"text-align: right;\">\n",
       "      <th></th>\n",
       "      <th>gender</th>\n",
       "      <th>race/ethnicity</th>\n",
       "      <th>parental level of education</th>\n",
       "      <th>lunch</th>\n",
       "      <th>test preparation course</th>\n",
       "      <th>math score</th>\n",
       "      <th>reading score</th>\n",
       "      <th>writing score</th>\n",
       "      <th>新属性</th>\n",
       "    </tr>\n",
       "  </thead>\n",
       "  <tbody>\n",
       "    <tr>\n",
       "      <th>0</th>\n",
       "      <td>male</td>\n",
       "      <td>group A</td>\n",
       "      <td>high school</td>\n",
       "      <td>standard</td>\n",
       "      <td>completed</td>\n",
       "      <td>67</td>\n",
       "      <td>67</td>\n",
       "      <td>63</td>\n",
       "      <td>low</td>\n",
       "    </tr>\n",
       "    <tr>\n",
       "      <th>1</th>\n",
       "      <td>female</td>\n",
       "      <td>group D</td>\n",
       "      <td>some high school</td>\n",
       "      <td>free/reduced</td>\n",
       "      <td>none</td>\n",
       "      <td>40</td>\n",
       "      <td>59</td>\n",
       "      <td>55</td>\n",
       "      <td>low</td>\n",
       "    </tr>\n",
       "    <tr>\n",
       "      <th>2</th>\n",
       "      <td>male</td>\n",
       "      <td>group E</td>\n",
       "      <td>some college</td>\n",
       "      <td>free/reduced</td>\n",
       "      <td>none</td>\n",
       "      <td>59</td>\n",
       "      <td>60</td>\n",
       "      <td>50</td>\n",
       "      <td>low</td>\n",
       "    </tr>\n",
       "    <tr>\n",
       "      <th>3</th>\n",
       "      <td>male</td>\n",
       "      <td>group B</td>\n",
       "      <td>high school</td>\n",
       "      <td>standard</td>\n",
       "      <td>none</td>\n",
       "      <td>77</td>\n",
       "      <td>78</td>\n",
       "      <td>68</td>\n",
       "      <td>high</td>\n",
       "    </tr>\n",
       "    <tr>\n",
       "      <th>4</th>\n",
       "      <td>male</td>\n",
       "      <td>group E</td>\n",
       "      <td>associate's degree</td>\n",
       "      <td>standard</td>\n",
       "      <td>completed</td>\n",
       "      <td>78</td>\n",
       "      <td>73</td>\n",
       "      <td>68</td>\n",
       "      <td>high</td>\n",
       "    </tr>\n",
       "  </tbody>\n",
       "</table>\n",
       "</div>"
      ],
      "text/plain": [
       "   gender race/ethnicity parental level of education         lunch  \\\n",
       "0    male        group A                 high school      standard   \n",
       "1  female        group D            some high school  free/reduced   \n",
       "2    male        group E                some college  free/reduced   \n",
       "3    male        group B                 high school      standard   \n",
       "4    male        group E          associate's degree      standard   \n",
       "\n",
       "  test preparation course  math score  reading score  writing score   新属性  \n",
       "0               completed          67             67             63   low  \n",
       "1                    none          40             59             55   low  \n",
       "2                    none          59             60             50   low  \n",
       "3                    none          77             78             68  high  \n",
       "4               completed          78             73             68  high  "
      ]
     },
     "execution_count": 11,
     "metadata": {},
     "output_type": "execute_result"
    }
   ],
   "source": [
    "df_new.head(5)"
   ]
  },
  {
   "cell_type": "markdown",
   "id": "6d06a1fa",
   "metadata": {},
   "source": [
    "# NO.7\n",
    "- 任选角度，绘制不少于三个不同角度描述性统计图，尽量练习不同类型的图表。"
   ]
  },
  {
   "cell_type": "code",
   "execution_count": 12,
   "id": "3e1cd46c",
   "metadata": {},
   "outputs": [],
   "source": [
    "import matplotlib.pyplot as plt\n",
    "import seaborn as sns"
   ]
  },
  {
   "cell_type": "markdown",
   "id": "c07266ef",
   "metadata": {},
   "source": [
    "**Fig.1. 不同民族的学生人数柱状图**\n",
    "\n",
    "通过描述性统计可知：民族A的学生最少，民族C的学生最多；"
   ]
  },
  {
   "cell_type": "code",
   "execution_count": 13,
   "id": "07e6eb0d",
   "metadata": {},
   "outputs": [
    {
     "data": {
      "image/png": "[encoded data removed]",
      "text/plain": [
       "<Figure size 432x288 with 1 Axes>"
      ]
     },
     "metadata": {
      "needs_background": "light"
     },
     "output_type": "display_data"
    }
   ],
   "source": [
    "race_list = df[\"race/ethnicity\"].unique() # 民族列表 ['group A', 'group D', 'group E', 'group B', 'group C']\n",
    "race_num = [len(df[df[\"race/ethnicity\"]==each]) for each in race_list] # 各个民族学生的人数\n",
    "plt.title(\"Different race student number\")\n",
    "plt.bar(race_list, race_num)\n",
    "plt.show()"
   ]
  },
  {
   "cell_type": "markdown",
   "id": "b30e3362",
   "metadata": {},
   "source": [
    "**Fig.2. 各个考试分数的分布直方图**\n",
    "\n",
    "通过描述性统计分析可以得出：三门不同科目的考试成绩分布相近；成绩较低与较高的学生数量较少，成绩中等的学生数量较多。"
   ]
  },
  {
   "cell_type": "code",
   "execution_count": 14,
   "id": "8e855781",
   "metadata": {
    "scrolled": false
   },
   "outputs": [
    {
     "data": {
      "image/png": "[encoded data removed]",
      "text/plain": [
       "<Figure size 1080x360 with 3 Axes>"
      ]
     },
     "metadata": {
      "needs_background": "light"
     },
     "output_type": "display_data"
    }
   ],
   "source": [
    "f, [ax1, ax2, ax3] = plt.subplots(1,3, figsize=(15,5))\n",
    "ax1.set_title('Math Score histgram')\n",
    "ax1.hist(df[\"math score\"])\n",
    "ax2.set_title('Reading Score histgram')\n",
    "ax2.hist(df[\"reading score\"])\n",
    "ax3.set_title('Writing Score histgram')\n",
    "ax3.hist(df[\"writing score\"])\n",
    "plt.show()"
   ]
  },
  {
   "cell_type": "markdown",
   "id": "e6268fe4",
   "metadata": {},
   "source": [
    "**Fig.3 父母教育情况与孩子均分的关系**\n",
    "\n",
    "根据小提琴图和箱线图可以看出，父母受教育情况的不同，孩子的成绩分布也不同。\n",
    "\n",
    "总体来看，学士学位、副学士学位和硕士学位家长的孩子，孩子平均成绩的中位数较高，成绩分布整体偏高。且平均成绩满分的学生均来自于本科及以上学历的家长。\n",
    "\n",
    "但家长的学历背景对孩子成绩的影响并不绝对，来自高中学历背景家庭的孩子，也有相当一部分人取得了均分90+的高分。"
   ]
  },
  {
   "cell_type": "code",
   "execution_count": 15,
   "id": "8192340b",
   "metadata": {},
   "outputs": [],
   "source": [
    "parent_edu = df[\"parental level of education\"].unique() # 不同的家长教育背景\n",
    "\n",
    "diff_parent_edu_mean_stu = [df[df[\"parental level of education\"]==each][[\"math score\",\"reading score\", \"writing score\"]].mean(axis=1) \n",
    "                            for each in parent_edu] # 不同家长教育背景的孩子，三门课程的平均分"
   ]
  },
  {
   "cell_type": "code",
   "execution_count": 16,
   "id": "2b3b6851",
   "metadata": {},
   "outputs": [
    {
     "data": {
      "image/png": "[encoded data removed]",
      "text/plain": [
       "<Figure size 1440x720 with 2 Axes>"
      ]
     },
     "metadata": {
      "needs_background": "light"
     },
     "output_type": "display_data"
    }
   ],
   "source": [
    "f, [ax1, ax2] = plt.subplots(1,2, figsize=(20,10))\n",
    "ax1.set_title(\"Violinplot of Parental Education & Student Scores\")\n",
    "ax1.violinplot(diff_parent_edu_mean_stu)\n",
    "ax1.set_xticks([y + 1 for y in range(len(parent_edu))])\n",
    "ax1.set_xticklabels(list(parent_edu),rotation = 30,fontsize = 'small')\n",
    "ax2.set_title(\"Violinplot of Parental Education & Student Scores\")\n",
    "ax2.boxplot(diff_parent_edu_mean_stu)\n",
    "ax2.set_xticks([y + 1 for y in range(len(parent_edu))])\n",
    "ax2.set_xticklabels(list(parent_edu),rotation = 30,fontsize = 'small')\n",
    "plt.show()"
   ]
  }
 ],
 "metadata": {
  "kernelspec": {
   "display_name": "Python 3 (ipykernel)",
   "language": "python",
   "name": "python3"
  },
  "language_info": {
   "codemirror_mode": {
    "name": "ipython",
    "version": 3
   },
   "file_extension": ".py",
   "mimetype": "text/x-python",
   "name": "python",
   "nbconvert_exporter": "python",
   "pygments_lexer": "ipython3",
   "version": "3.9.7"
  }
 },
 "nbformat": 4,
 "nbformat_minor": 5
}
